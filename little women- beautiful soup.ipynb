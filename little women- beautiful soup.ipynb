{
 "cells": [
  {
   "cell_type": "code",
   "execution_count": 72,
   "metadata": {},
   "outputs": [],
   "source": [
    "import pandas as pd\n",
    "import seaborn as sns\n",
    "import matplotlib.pyplot as plt\n",
    "import requests\n",
    "from bs4 import BeautifulSoup\n",
    "from googletrans import Translator, constants\n",
    "from pprint import pprint\n",
    "import re\n",
    "import nltk\n",
    "from nltk.tokenize import RegexpTokenizer\n",
    "from collections import Counter\n",
    "import textdistance "
   ]
  },
  {
   "cell_type": "code",
   "execution_count": 2,
   "metadata": {},
   "outputs": [],
   "source": [
    "# Store url of the book from the project gutenberg website\n",
    "url = 'https://www.gutenberg.org/files/514/514-h/514-h.htm'"
   ]
  },
  {
   "cell_type": "code",
   "execution_count": 3,
   "metadata": {},
   "outputs": [
    {
     "data": {
      "text/plain": [
       "requests.models.Response"
      ]
     },
     "execution_count": 3,
     "metadata": {},
     "output_type": "execute_result"
    }
   ],
   "source": [
    "# Make the request and check object type\n",
    "r = requests.get(url)\n",
    "type(r)"
   ]
  },
  {
   "cell_type": "code",
   "execution_count": 77,
   "metadata": {},
   "outputs": [],
   "source": [
    "# Extract HTML from Response object and print\n",
    "html = r.text\n",
    "#print(html)"
   ]
  },
  {
   "cell_type": "code",
   "execution_count": 5,
   "metadata": {},
   "outputs": [
    {
     "data": {
      "text/plain": [
       "bs4.BeautifulSoup"
      ]
     },
     "execution_count": 5,
     "metadata": {},
     "output_type": "execute_result"
    }
   ],
   "source": [
    "# Create a BeautifulSoup object from the HTML\n",
    "soup = BeautifulSoup(html, \"html5lib\")\n",
    "type(soup)"
   ]
  },
  {
   "cell_type": "code",
   "execution_count": 6,
   "metadata": {},
   "outputs": [
    {
     "data": {
      "text/plain": [
       "'\\nThe Project Gutenberg E-text of Little Women, by Louisa May Alcott\\n'"
      ]
     },
     "execution_count": 6,
     "metadata": {},
     "output_type": "execute_result"
    }
   ],
   "source": [
    "# scrape title as a string\n",
    "soup.title.string"
   ]
  },
  {
   "cell_type": "code",
   "execution_count": 78,
   "metadata": {},
   "outputs": [],
   "source": [
    "paragraph=soup.find_all(\"p\")\n",
    "new_var = \"\"   \n",
    "for para in paragraph:       \n",
    "    new_var += para.text   \n",
    "    new_var\n"
   ]
  },
  {
   "cell_type": "markdown",
   "metadata": {},
   "source": [
    "# Word frequency analysis \n",
    "\n"
   ]
  },
  {
   "cell_type": "code",
   "execution_count": 75,
   "metadata": {},
   "outputs": [
    {
     "data": {
      "text/plain": [
       "['without', 'any', 'presents', 'grumbled', 'Jo']"
      ]
     },
     "execution_count": 75,
     "metadata": {},
     "output_type": "execute_result"
    }
   ],
   "source": [
    "#tokenize the text i.e. spliting into words/removing whitespace\n",
    "# Create tokenizer\n",
    "tokenizer = RegexpTokenizer('\\w+')\n",
    "\n",
    "# Create tokens\n",
    "tokens = tokenizer.tokenize(new_var)\n",
    "\n",
    "#inspect slice of data\n",
    "tokens[5:10]"
   ]
  },
  {
   "cell_type": "code",
   "execution_count": 76,
   "metadata": {},
   "outputs": [
    {
     "data": {
      "text/plain": [
       "['lying', 'on', 'the', 'rug', 'it', 's', 'so', 'dreadful', 'to', 'be']"
      ]
     },
     "execution_count": 76,
     "metadata": {},
     "output_type": "execute_result"
    }
   ],
   "source": [
    "#make all tokens lower case to prevent double counting later on\n",
    "\n",
    "# Initialize new list\n",
    "words = []\n",
    "\n",
    "\n",
    "# Loop through list tokens and make lower case\n",
    "for word in tokens:\n",
    "    words.append(word.lower())\n",
    "\n",
    "\n",
    "# inspect slice of data\n",
    "words[10:20]"
   ]
  },
  {
   "cell_type": "code",
   "execution_count": 10,
   "metadata": {},
   "outputs": [
    {
     "data": {
      "text/plain": [
       "['christmas', 'christmas', 'without', 'presents', 'grumbled']"
      ]
     },
     "execution_count": 10,
     "metadata": {},
     "output_type": "execute_result"
    }
   ],
   "source": [
    "#remove stopwords\n",
    "# Get English stopwords \n",
    "sw = nltk.corpus.stopwords.words('english')\n",
    "\n",
    "\n",
    "#create new list without stop words\n",
    "words_ns = []\n",
    "\n",
    "# Add all words that are not stopwords\n",
    "for word in words:\n",
    "    if word not in sw:\n",
    "        words_ns.append(word)\n",
    "\n",
    "# inspect first few items\n",
    "words_ns[:5]"
   ]
  },
  {
   "cell_type": "code",
   "execution_count": 11,
   "metadata": {},
   "outputs": [
    {
     "data": {
      "image/png": "[encoded data removed]",
      "text/plain": [
       "<Figure size 432x288 with 1 Axes>"
      ]
     },
     "metadata": {},
     "output_type": "display_data"
    },
    {
     "data": {
      "text/plain": [
       "<AxesSubplot:xlabel='Samples', ylabel='Counts'>"
      ]
     },
     "execution_count": 11,
     "metadata": {},
     "output_type": "execute_result"
    }
   ],
   "source": [
    "#visualize word frequency\n",
    "\n",
    "# Figures inline and set visualization style\n",
    "%matplotlib inline\n",
    "sns.set()\n",
    "\n",
    "# plot frequency distribution for top 20 most used words\n",
    "freqdist1 = nltk.FreqDist(words_ns)\n",
    "freqdist1.plot(20)\n",
    "\n",
    "#we can see that the most frequently used word in the book was Jo "
   ]
  },
  {
   "cell_type": "markdown",
   "metadata": {},
   "source": [
    "# Mini \"Auto-correct\" function\n",
    "## create a mini \"auto-correct\" function using the book as a database of words to find the closest match "
   ]
  },
  {
   "cell_type": "code",
   "execution_count": 20,
   "metadata": {},
   "outputs": [
    {
     "name": "stdout",
     "output_type": "stream",
     "text": [
      "[('jo', 1355), ('said', 826), ('little', 717), ('one', 711), ('meg', 683), ('amy', 646), ('laurie', 596), ('like', 588), ('beth', 461), ('good', 460)]\n"
     ]
    }
   ],
   "source": [
    "#create dict for word freq\n",
    "\n",
    "word_freq_dict = {}  \n",
    "word_freq_dict = Counter(words_ns)\n",
    "print(word_freq_dict.most_common()[0:10])"
   ]
  },
  {
   "cell_type": "code",
   "execution_count": 37,
   "metadata": {},
   "outputs": [],
   "source": [
    "#find the relative frequency of words\n",
    "probs = {}     \n",
    "Total = sum(word_freq_dict.values())    \n",
    "for k in word_freq_dict.keys():\n",
    "    probs[k] = word_freq_dict[k]/Total"
   ]
  },
  {
   "cell_type": "code",
   "execution_count": 70,
   "metadata": {},
   "outputs": [],
   "source": [
    "#define autocorrect function \n",
    "\n",
    "def mini_autocorrect(input_word):\n",
    "    input_word = input_word.lower()\n",
    "    if input_word in words_ns:\n",
    "        return(\"That's a match\")\n",
    "    else:\n",
    "        #sort similar words according to the Jaccard distance \n",
    "        similarities = [1-(textdistance.Jaccard(qval=2).distance(v,input_word)) for v in word_freq_dict.keys()]\n",
    "        df = pd.DataFrame.from_dict(probs, orient='index').reset_index()\n",
    "        df = df.rename(columns={'index':'Word', 0:'Prob'})\n",
    "        df['Similarity'] = similarities\n",
    "        output = df.sort_values(['Similarity', 'Prob'], ascending=False).head()\n",
    "        #return the 5 most similar words ordered by probability:\n",
    "        print('did you mean to say:')\n",
    "        return(output)\n",
    "    "
   ]
  },
  {
   "cell_type": "code",
   "execution_count": 71,
   "metadata": {},
   "outputs": [
    {
     "name": "stdout",
     "output_type": "stream",
     "text": [
      "did you mean to say:\n"
     ]
    },
    {
     "data": {
      "text/html": [
       "<div>\n",
       "<style scoped>\n",
       "    .dataframe tbody tr th:only-of-type {\n",
       "        vertical-align: middle;\n",
       "    }\n",
       "\n",
       "    .dataframe tbody tr th {\n",
       "        vertical-align: top;\n",
       "    }\n",
       "\n",
       "    .dataframe thead th {\n",
       "        text-align: right;\n",
       "    }\n",
       "</style>\n",
       "<table border=\"1\" class=\"dataframe\">\n",
       "  <thead>\n",
       "    <tr style=\"text-align: right;\">\n",
       "      <th></th>\n",
       "      <th>Word</th>\n",
       "      <th>Prob</th>\n",
       "      <th>Similarity</th>\n",
       "    </tr>\n",
       "  </thead>\n",
       "  <tbody>\n",
       "    <tr>\n",
       "      <th>4</th>\n",
       "      <td>jo</td>\n",
       "      <td>0.015097</td>\n",
       "      <td>0.333333</td>\n",
       "    </tr>\n",
       "    <tr>\n",
       "      <th>1041</th>\n",
       "      <td>journey</td>\n",
       "      <td>0.000145</td>\n",
       "      <td>0.285714</td>\n",
       "    </tr>\n",
       "    <tr>\n",
       "      <th>2657</th>\n",
       "      <td>eye</td>\n",
       "      <td>0.000368</td>\n",
       "      <td>0.250000</td>\n",
       "    </tr>\n",
       "    <tr>\n",
       "      <th>1221</th>\n",
       "      <td>joy</td>\n",
       "      <td>0.000201</td>\n",
       "      <td>0.250000</td>\n",
       "    </tr>\n",
       "    <tr>\n",
       "      <th>1650</th>\n",
       "      <td>key</td>\n",
       "      <td>0.000111</td>\n",
       "      <td>0.250000</td>\n",
       "    </tr>\n",
       "  </tbody>\n",
       "</table>\n",
       "</div>"
      ],
      "text/plain": [
       "         Word      Prob  Similarity\n",
       "4          jo  0.015097    0.333333\n",
       "1041  journey  0.000145    0.285714\n",
       "2657      eye  0.000368    0.250000\n",
       "1221      joy  0.000201    0.250000\n",
       "1650      key  0.000111    0.250000"
      ]
     },
     "execution_count": 71,
     "metadata": {},
     "output_type": "execute_result"
    }
   ],
   "source": [
    "#test the function\n",
    "mini_autocorrect('joey')"
   ]
  },
  {
   "cell_type": "code",
   "execution_count": 52,
   "metadata": {},
   "outputs": [
    {
     "data": {
      "text/plain": [
       "\"That's a match\""
      ]
     },
     "execution_count": 52,
     "metadata": {},
     "output_type": "execute_result"
    }
   ],
   "source": [
    "mini_autocorrect('amy')"
   ]
  },
  {
   "cell_type": "markdown",
   "metadata": {},
   "source": [
    "# Translate text using google API\n"
   ]
  },
  {
   "cell_type": "code",
   "execution_count": 12,
   "metadata": {},
   "outputs": [
    {
     "name": "stdout",
     "output_type": "stream",
     "text": [
      "The Mandarin translation is:  “哦，我的女孩们，无论您能活多久，我永远都不会希望您\n",
      "比这更大的幸福！”\n",
      "The original english version was:  \n",
      "\"Oh, my girls, however long you may live, I never can wish you a\n",
      "greater happiness than this!\"\n",
      "\n"
     ]
    }
   ],
   "source": [
    "\n",
    "#init Google API translator\n",
    "translator = Translator()\n",
    "\n",
    "#translate the last paragraph of text into mandarin (simplified)\n",
    "#google API translator has a limit of 5,000 characters per request for its free service\n",
    "\n",
    "translation = translator.translate(para.text, dest=\"zh-CN\")\n",
    "print(\"The Mandarin translation is: \",translation.text)\n",
    "\n",
    "#english version \n",
    "print(\"The original english version was: \",para.text)"
   ]
  }
 ],
 "metadata": {
  "kernelspec": {
   "display_name": "Python 3",
   "language": "python",
   "name": "python3"
  },
  "language_info": {
   "codemirror_mode": {
    "name": "ipython",
    "version": 3
   },
   "file_extension": ".py",
   "mimetype": "text/x-python",
   "name": "python",
   "nbconvert_exporter": "python",
   "pygments_lexer": "ipython3",
   "version": "3.7.4"
  }
 },
 "nbformat": 4,
 "nbformat_minor": 2
}
